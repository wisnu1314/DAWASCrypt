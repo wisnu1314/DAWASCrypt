{
  "nbformat": 4,
  "nbformat_minor": 0,
  "metadata": {
    "colab": {
      "provenance": []
    },
    "kernelspec": {
      "name": "python3",
      "display_name": "Python 3"
    },
    "language_info": {
      "name": "python"
    }
  },
  "cells": [
    {
      "cell_type": "markdown",
      "source": [
        "13519093 - Wisnu Aditya Samiadji\n",
        "\n",
        "13519169 - David Owen Adiwiguna\n",
        "\n",
        "Tugas 2 Kriptografi\n",
        "\n",
        "DAWASCrypt"
      ],
      "metadata": {
        "id": "XlSQI20yUiBO"
      }
    },
    {
      "cell_type": "code",
      "execution_count": null,
      "metadata": {
        "id": "9M7Lj9UeQxu0"
      },
      "outputs": [],
      "source": [
        "import hashlib\n",
        "import random\n",
        "from math import exp, expm1\n",
        "import string\n",
        "import time"
      ]
    },
    {
      "cell_type": "code",
      "source": [
        "def generateuniquekey():\n",
        "  return ''.join(random.choices(string.ascii_lowercase + string.digits, k=36))"
      ],
      "metadata": {
        "id": "jo1N6BgQTs9y"
      },
      "execution_count": null,
      "outputs": []
    },
    {
      "cell_type": "code",
      "source": [
        "ROUNDS = 16\n",
        "BLOCKSIZE = 16\n",
        "BLOCKSIZE_BITS = 128\n",
        "UNIQUE = generateuniquekey() #Run this only once"
      ],
      "metadata": {
        "id": "zVkGbWh3Q1Hn"
      },
      "execution_count": null,
      "outputs": []
    },
    {
      "cell_type": "code",
      "source": [
        "def shuffle(message, key):\n",
        "    random.seed(key)\n",
        "    l = list(range(len(message)))\n",
        "    random.shuffle(l)\n",
        "    return [message[x] for x in l]\n",
        "\n",
        "def unshuffle(shuffled_message, key):\n",
        "    random.seed(key)\n",
        "    l = list(range(len(shuffled_message)))\n",
        "    random.shuffle(l)\n",
        "    out = [None] * len(shuffled_message)\n",
        "    for i, x in enumerate(l):\n",
        "        out[x] = shuffled_message[i]\n",
        "    return out"
      ],
      "metadata": {
        "id": "zH5jiaXrQ7HZ"
      },
      "execution_count": null,
      "outputs": []
    },
    {
      "cell_type": "code",
      "source": [
        "def encrypt(key, message, mode):\n",
        "    ciphertext = \"\"\n",
        "    n = BLOCKSIZE  \n",
        "    \n",
        "    message = [message[i: i + n] for i in range(0, len(message), n)]\n",
        "\n",
        "    lastBlockLength = len(message[len(message)-1])\n",
        "\n",
        "    if ( lastBlockLength < BLOCKSIZE):\n",
        "        for i in range(lastBlockLength, BLOCKSIZE):\n",
        "            message[len(message)-1] += \" \"\n",
        "\n",
        "\n",
        "    # generate a 16 bit key based of user inputted key\n",
        "    #print(\"md5key for\", key, \"is\", key_md5(key))\n",
        "    key = key_md5(key)\n",
        "    key_initial = key\n",
        "    ctr = 0\n",
        "    for block in message:\n",
        "        #print(\"Encrypt\",key)\n",
        "        #generate sbox based on md5key\n",
        "        sbox = generatesbox(key)\n",
        "        L = [\"\"] * (ROUNDS + 1)\n",
        "        R = [\"\"] * (ROUNDS + 1)\n",
        "        L[0] = block[0:BLOCKSIZE//2]\n",
        "        R[0] = block[BLOCKSIZE//2:BLOCKSIZE]\n",
        "\n",
        "        for i in range(1, ROUNDS+1):\n",
        "            round_key = subkeygen(str(i), key, i)\n",
        "            LR_im = R[i - 1][:BLOCKSIZE//4]\n",
        "            RR_im = R[i - 1][BLOCKSIZE//4:]\n",
        "  \n",
        "            LL_i = RR_im\n",
        "            RL_i = xor(LR_im, transform(RR_im, i, round_key, sbox))\n",
        "\n",
        "            L[i] = LL_i + RL_i\n",
        "            R[i] = xor(L[i - 1], transform(R[i - 1], i, round_key, sbox))\n",
        "\n",
        "        partial_cipher = L[ROUNDS] + R[ROUNDS]\n",
        "        shuffle(partial_cipher, key)\n",
        "        ciphertext += partial_cipher\n",
        "        if (mode == \"cbc\"):\n",
        "            key = subkeygen(L[0], key, i)\n",
        "        if (mode == \"counter\"):\n",
        "            key = subkeygen(str(ctr), key_initial, i)\n",
        "            ctr += 1\n",
        "\n",
        "    return ciphertext\n"
      ],
      "metadata": {
        "id": "fnQ8eUBtShEq"
      },
      "execution_count": null,
      "outputs": []
    },
    {
      "cell_type": "code",
      "source": [
        "def decrypt(key, ciphertext, mode):\n",
        "    message = \"\"\n",
        "    n = BLOCKSIZE  \n",
        "    \n",
        "    ciphertext = [ciphertext[i: i + n] for i in range(0, len(ciphertext), n)]\n",
        "\n",
        "    lastBlockLength = len(ciphertext[len(ciphertext)-1])\n",
        "\n",
        "    if ( lastBlockLength < BLOCKSIZE):\n",
        "        for i in range(lastBlockLength, BLOCKSIZE):\n",
        "            ciphertext[len(ciphertext)-1] += \" \"\n",
        "\n",
        "\n",
        "    # generate a 128 bit key based off the user inputted key using md5\n",
        "    key = key_md5(key)\n",
        "    \n",
        "    \n",
        "    key_initial = key\n",
        "    ctr = 0\n",
        "    for block in ciphertext:\n",
        "        #print(\"Decrypt\",key)\n",
        "        #generate sbox based on md5key\n",
        "        sbox = generatesbox(key)\n",
        "        #print (\"Block: \" + block)\n",
        "        L = [\"\"] * (ROUNDS + 1)\n",
        "        R = [\"\"] * (ROUNDS + 1)\n",
        "        L[ROUNDS] = block[0:BLOCKSIZE//2]\n",
        "        R[ROUNDS] = block[BLOCKSIZE//2:BLOCKSIZE]\n",
        "\n",
        "        for i in range(ROUNDS, 0, -1):\n",
        "            round_key = subkeygen(str(i), key, i)\n",
        "            LL_i = L[i][:BLOCKSIZE//4]\n",
        "            RL_i = L[i][BLOCKSIZE//4:]\n",
        "\n",
        "            RR_im = LL_i\n",
        "            LR_im = xor(RL_i, transform(RR_im, i, round_key, sbox))\n",
        "\n",
        "            R[i - 1] = LR_im + RR_im\n",
        "            L[i - 1] = xor(R[i], transform(R[i - 1], i, round_key, sbox))\n",
        "\n",
        "        partial_message = L[0] + R[0]\n",
        "        unshuffle(partial_message, key)\n",
        "        message += partial_message\n",
        "        if (mode == \"cbc\"):\n",
        "            key = subkeygen(L[0], key, i)\n",
        "            # print(key)\n",
        "        if (mode == \"counter\"):\n",
        "            key = subkeygen(str(ctr), key_initial, i)\n",
        "            ctr += 1\n",
        "            # print(key)\n",
        "\n",
        "    return message"
      ],
      "metadata": {
        "id": "62kh91fGSk9N"
      },
      "execution_count": null,
      "outputs": []
    },
    {
      "cell_type": "code",
      "source": [
        "def key_md5(key):\n",
        "    return hashlib.md5((key+UNIQUE).encode('utf-8')).hexdigest()\n",
        "def subkeygen(s1, s2, i):\n",
        "    result = hashlib.md5((s1+s2).encode('utf-8')).hexdigest()\n",
        "    return result"
      ],
      "metadata": {
        "id": "q8vrQEtYSoFf"
      },
      "execution_count": null,
      "outputs": []
    },
    {
      "cell_type": "code",
      "source": [
        "#fungsi untuk melakukan transformasi\n",
        "def transform(x, i, k, sbox):\n",
        "    k = stobin(k)\n",
        "    x = stobin(str(x))\n",
        "    if (len(x) == 32) :\n",
        "        out = \"\"\n",
        "        for i in range(8):\n",
        "            val = bintoint(x[i*4:(i*4) + 4])\n",
        "            out += bin(sbox[i].index(val))[2:].zfill(4)\n",
        "\n",
        "        out = out[4:len(out)] + out[0:4]\n",
        "    else:\n",
        "        out = x\n",
        "    k = bintoint(k)\n",
        "    x = bintoint(out)\n",
        "\n",
        "    res = pow((x * k), i)\n",
        "    res = itobin(res)\n",
        "    return bintostr(res)"
      ],
      "metadata": {
        "id": "TR1OmDXWSp9r"
      },
      "execution_count": null,
      "outputs": []
    },
    {
      "cell_type": "code",
      "source": [
        "# xor two strings\n",
        "def xor(s1, s2):\n",
        "  return ''.join(chr(ord(a) ^ ord(b)) for a, b in zip(s1, s2))\n",
        "\n",
        "\n",
        "# string to binary with length 8\n",
        "def stobin(s):\n",
        "  return ''.join('{:08b}'.format(ord(c)) for c in s)\n",
        "\n",
        "\n",
        "# binary to int\n",
        "def bintoint(s):\n",
        "    return int(str(s), 2)\n",
        "\n",
        "\n",
        "# int to binary\n",
        "def itobin(i):\n",
        "    return bin(i)\n",
        "\n",
        "\n",
        "# binary to string\n",
        "def bintostr(b):\n",
        "    n = int(b, 2)\n",
        "    return ''.join(chr(int(b[i: i + 8], 2)) for i in range(0, len(b), 8))\n",
        "\n",
        "#hexadecimal to decimal\n",
        "def hextodec(s):\n",
        "    return int(str(s), 16)\n"
      ],
      "metadata": {
        "id": "MmaG3XTASrLm"
      },
      "execution_count": null,
      "outputs": []
    },
    {
      "cell_type": "code",
      "source": [
        "def generatesbox(key):\n",
        "  sb1 = [0, 1, 2, 3, 4, 5, 6, 7, 8, 9, 10, 11, 12, 13, 14, 15]\n",
        "  sb2 = [0, 1, 2, 3, 4, 5, 6, 7, 8, 9, 10, 11, 12, 13, 14, 15]\n",
        "  sb3 = [0, 1, 2, 3, 4, 5, 6, 7, 8, 9, 10, 11, 12, 13, 14, 15]\n",
        "  sb4 = [0, 1, 2, 3, 4, 5, 6, 7, 8, 9, 10, 11, 12, 13, 14, 15]\n",
        "  sb5 = [0, 1, 2, 3, 4, 5, 6, 7, 8, 9, 10, 11, 12, 13, 14, 15]\n",
        "  sb6 = [0, 1, 2, 3, 4, 5, 6, 7, 8, 9, 10, 11, 12, 13, 14, 15]\n",
        "  sb7 = [0, 1, 2, 3, 4, 5, 6, 7, 8, 9, 10, 11, 12, 13, 14, 15]\n",
        "  sb8 = [0, 1, 2, 3, 4, 5, 6, 7, 8, 9, 10, 11, 12, 13, 14, 15]\n",
        "  for i in range (1,9):\n",
        "    for j in range (1,17):\n",
        "      if(i == 1):\n",
        "        hdec1 = (hextodec(key[(j - 1) * 2 : (j - 1) * 2 + 2]) + i + j) % 16\n",
        "        sb1 = sb1[hdec1:] + sb1[:hdec1]\n",
        "      if(i == 2):\n",
        "        hdec2 = (hextodec(key[(j - 1) * 2 : (j - 1) * 2 + 2]) + i + j) % 16\n",
        "        sb2 = sb2[-hdec2:] + sb2[:-hdec2]\n",
        "      if(i == 3):\n",
        "        hdec3 = (hextodec(key[(j - 1) * 2 : (j - 1) * 2 + 2]) + i + j) % 16\n",
        "        sb3 = sb3[hdec3:] + sb3[:hdec3]\n",
        "      if(i == 4):\n",
        "        hdec4 = (hextodec(key[(j - 1) * 2 : (j - 1) * 2 + 2]) + i + j) % 16\n",
        "        sb4 = sb4[-hdec4:] + sb4[:-hdec4]\n",
        "      if(i == 5):\n",
        "        hdec5 = (hextodec(key[(j - 1) * 2 : (j - 1) * 2 + 2]) + i + j) % 16\n",
        "        sb5 = sb5[hdec5:] + sb5[:hdec5]\n",
        "      if(i == 6):\n",
        "        hdec6 = (hextodec(key[(j - 1) * 2 : (j - 1) * 2 + 2]) + i + j) % 16\n",
        "        sb6 = sb6[-hdec6:] + sb6[:-hdec6]\n",
        "      if(i == 7):\n",
        "        hdec7 = (hextodec(key[(j - 1) * 2 : (j - 1) * 2 + 2]) + i + j) % 16\n",
        "        sb7 = sb7[hdec7:] + sb7[:hdec7]\n",
        "      if(i == 8):\n",
        "        hdec8 = (hextodec(key[(j - 1) * 2 : (j - 1) * 2 + 2]) + i + j) % 16\n",
        "        sb8 = sb8[-hdec8:] + sb8[:-hdec8]\n",
        "  sb = [ sb1, sb2, sb3, sb4, sb5, sb6, sb7, sb8 ]\n",
        "  return sb"
      ],
      "metadata": {
        "id": "N7yrFRulQO2w"
      },
      "execution_count": null,
      "outputs": []
    },
    {
      "cell_type": "code",
      "source": [
        "def determineMode(inp):\n",
        "  if(inp % 3 == 0):  return \"cbc\"\n",
        "  elif (inp % 3 == 1): return \"ecb\"\n",
        "  else: return \"counter\""
      ],
      "metadata": {
        "id": "MW5zJz5hieFX"
      },
      "execution_count": null,
      "outputs": []
    },
    {
      "cell_type": "markdown",
      "source": [
        "Plaintext 1\n",
        "\n",
        "\"Theories about learning with multimedia can be positioned at different levels. At a basic level, psychological theories describe memory systems and cognitive processes that explain how people process different types of information and how they learn with different senses.\""
      ],
      "metadata": {
        "id": "khmayi-55GmI"
      }
    },
    {
      "cell_type": "code",
      "source": [
        "# plaintextinp1 = str(input(\"Plaintext: \"))\n",
        "# keyinp1 = str(input(\"Key: \"))\n",
        "# mode1 = determineMode(int(input(\"Mode (1:ecb, 2:counter, 3: cbc): \")))\n",
        "plaintextinp1 = \"Theories about learning with multimedia can be positioned at different levels. At a basic level, psychological theories describe memory systems and cognitive processes that explain how people process different types of information and how they learn with different senses.\"\n",
        "keyinp1 = \"ameagari no niji ma\"\n",
        "mode1 = determineMode(1)\n",
        "st = time.time()\n",
        "ciptext1 = encrypt(keyinp1, plaintextinp1, mode1)\n",
        "print(ciptext1)\n",
        "et = time.time()\n",
        "encrypt_time = et - st\n",
        "print('Encryption time:', encrypt_time, 'seconds')\n",
        "st = time.time()\n",
        "plaintext1 = decrypt(keyinp1, ciptext1, mode1)\n",
        "print(plaintext1)\n",
        "dt = time.time()\n",
        "decrypt_time = dt - st\n",
        "print('Decryption time:', decrypt_time, 'seconds')"
      ],
      "metadata": {
        "colab": {
          "base_uri": "https://localhost:8080/"
        },
        "id": "r_JNfSEdiNor",
        "outputId": "31e0c16d-f167-4fdc-b06a-17852e37ed7c"
      },
      "execution_count": null,
      "outputs": [
        {
          "output_type": "stream",
          "name": "stdout",
          "text": [
            "\fn -Ï¦ýÁÃ\u0001¶0C\u0013-GByk­>ÐÆ\u000fÃ®jÎÅÙÃ\u0019\u001b$\u001c+ÒÞª¨oëKÿÙ+\u000bYSU¨@fEÆéo)\u0015\u0019\u001bÉD\u0015coÀ×1\u000eÜÊÙ#\bãUõH\u0002²f\u0007ï50'\tÔ#T-}YnOîçëæÌV#O\u001bÌ±\u000eS\u0012\u0014¿ÎÃ²~ÕÄ,þµöÝ*(8¬ÖµÒ\u0011~Î¼\f0<Ê>='§Ï~ö\u001f\u0018I\f\u001bF=ÿ_Å#M=c-ü®\u0015\u001dôÇ4lãL\f°\u0003Þ\b\u001aíÞö¹7]là/\u0017\u001c'ýø/Ô\u0015Ó]jÜÏ\u0002Ecïã\u0011-&\u0010ÈUnQ°Ë\u001f\u0011í+¿P:!!|Eü\u0012\u0001]\fLV\u0000É&8­þ/z{\n",
            "Encryption time: 0.23798084259033203 seconds\n",
            "Theories about learning with multimedia can be positioned at different levels. At a basic level, psychological theories describe memory systems and cognitive processes that explain how people process different types of information and how they learn with different senses.\n",
            "Decryption time: 0.16456961631774902 seconds\n"
          ]
        }
      ]
    },
    {
      "cell_type": "code",
      "source": [
        "# plaintextinp2 = str(input(\"Plaintext: \"))\n",
        "# keyinp2 = str(input(\"Key: \"))\n",
        "# mode2 = determineMode(int(input(\"Mode (1:ecb, 2:counter, 3:cbc): \")))\n",
        "plaintextinp2 = \"Theories about learning with multimedia can be positioned at different levels. At a basic level, psychological theories describe memory systems and cognitive processes that explain how people process different types of information and how they learn with different senses.\"\n",
        "keyinp2 = \"ameagari no niji ma\"\n",
        "mode2 = determineMode(2)\n",
        "st = time.time()\n",
        "ciptext2 = encrypt(keyinp2, plaintextinp2, mode2) \n",
        "print(ciptext2)\n",
        "et = time.time()\n",
        "encrypt_time = et - st\n",
        "print('Encryption time:', encrypt_time, 'seconds')\n",
        "st = time.time()\n",
        "plaintext2 = decrypt(keyinp2, ciptext2, mode2)\n",
        "print(plaintext2)\n",
        "dt = time.time()\n",
        "decrypt_time = dt - st\n",
        "print('Decryption time:', decrypt_time, 'seconds')"
      ],
      "metadata": {
        "colab": {
          "base_uri": "https://localhost:8080/"
        },
        "id": "AlHKyMEo7D5-",
        "outputId": "d76c95a0-944f-4a25-e550-48e4e3c9a944"
      },
      "execution_count": null,
      "outputs": [
        {
          "output_type": "stream",
          "name": "stdout",
          "text": [
            "\fn -Ï¦ýÁÃ\u0001¶0C\u0013-79GN|ºC\u000fkç\u001b\u0010ñÒb$·\"\u0003Idn`åèÑ6\u001c@Ôu\u0014ç¬ñ\u0019 \u0001ãù¤F \u0018\u0005W.t6rÅ\u001f»þ­BáDZò0öãWª§u\u0000½\u0010¢.ïDÃ;îSd©#\u001eJÛ _TW:I\u001a1ÿYHÚÏÃKn&°nKp\u001d{ÙêÇ\u000f¥y\u0012Ò7wTk¿v%@±OL~\u0000kj\u0015\u0013»ÆuP\u0000\u0007ÄµýÙ­P\u0011Öö!uVûKÖ\u0014½4´7³\u0010Ä¹µ\r8ªÍU\u0013G Sùl\n",
            "Ã0üÞÜ\\\u0018n\u0014f.DvÑ?&dÇámÈ8,Ék³\u000f/Rª\t\u0012´hË\u0000Ï\t\"ó\u001f{FNbÿH\u000eQã\n",
            "Encryption time: 0.16413474082946777 seconds\n",
            "Theories about learning with multimedia can be positioned at different levels. At a basic level, psychological theories describe memory systems and cognitive processes that explain how people process different types of information and how they learn with different senses.\n",
            "Decryption time: 0.15146470069885254 seconds\n"
          ]
        }
      ]
    },
    {
      "cell_type": "code",
      "source": [
        "# plaintextinp3 = str(input(\"Plaintext: \"))\n",
        "# keyinp3 = str(input(\"Key: \"))\n",
        "# mode3 = determineMode(int(input(\"Mode (1:ecb, 2:counter, 3:cbc): \")))\n",
        "plaintextinp3 = \"Theories about learning with multimedia can be positioned at different levels. At a basic level, psychological theories describe memory systems and cognitive processes that explain how people process different types of information and how they learn with different senses.\"\n",
        "keyinp3 = \"ameagari no niji ma\"\n",
        "mode3 = determineMode(3)\n",
        "st = time.time()\n",
        "ciptext3 = encrypt(keyinp3, plaintextinp3, mode3)\n",
        "print(ciptext3)\n",
        "et = time.time()\n",
        "encrypt_time = et - st\n",
        "print('Encryption time:', encrypt_time, 'seconds')\n",
        "st = time.time()\n",
        "plaintext3 = decrypt(keyinp3, ciptext3, mode3)\n",
        "print(plaintext3)\n",
        "dt = time.time()\n",
        "decrypt_time = dt - st\n",
        "print('Decryption time:', decrypt_time, 'seconds')\n",
        "print(plaintext1 == plaintext2 and plaintext1 == plaintext3)\n",
        "print(ciptext1 == ciptext2 or ciptext1 == ciptext3 or ciptext2 == ciptext3)"
      ],
      "metadata": {
        "colab": {
          "base_uri": "https://localhost:8080/"
        },
        "id": "yG_zCpv6Xw-g",
        "outputId": "d91dfcd0-bc4b-4368-ac5f-24a285f74ce5"
      },
      "execution_count": null,
      "outputs": [
        {
          "output_type": "stream",
          "name": "stdout",
          "text": [
            "\fn -Ï¦ýÁÃ\u0001¶0C\u0013-\u0013$ÄbùKÔÐ\u0002·IN>÷Òµ\u0015D=Ûb92*è[yZ¾/M¹^ÉúêQÅÁÕd%mðj] Ç4¸Têðgyè¥\u0015©¶_\u000eØ¬\u0015e(2(-ÔÍ¿Bî+L®\u0011ª\u000edØwIÁ\u0014;iîÿâzÜ».+Ûipdå\u0015§ÿ5}@­â«ý\u0005®Ü\u0003ò\u0006DcVÀNiª²5àu'$]sé¢B\u000eª8ß?ô?ýØ÷W\u0001Ì_\tï5\u0011D¨Ê@Ò\u0018l\u001dÅÙ;\u0015CÝ\u001bÂ\u0007r¾\u00186µÄ-g®ks{*^\u0014rÒ6%Ý\rkî-Óc\u0004ËPá#¦0\u0006´TB'\u000b}\u001dcg6y¡\u001dv\n",
            "Encryption time: 0.15140485763549805 seconds\n",
            "Theories about learning with multimedia can be positioned at different levels. At a basic level, psychological theories describe memory systems and cognitive processes that explain how people process different types of information and how they learn with different senses.\n",
            "Decryption time: 0.1523897647857666 seconds\n",
            "True\n",
            "False\n"
          ]
        }
      ]
    },
    {
      "cell_type": "code",
      "source": [
        "# plaintextinp2 = str(input(\"Plaintext: \"))\n",
        "# keyinp2 = str(input(\"Key: \"))\n",
        "# mode2 = determineMode(int(input(\"Mode (1:ecb, 2:counter, 3:cbc): \")))\n",
        "plaintextinp2 = \"Theories about learning with multimedia can be positioned at different levels. At a basic level, psychological theories describe memory systems and cognitive processes that explain how people process different types of information and how they learn with different senses.\"\n",
        "keyinp2 = \"ameagari no niji ma\"\n",
        "mode2 = determineMode(2)\n",
        "st = time.time()\n",
        "ciptext2 = encrypt(keyinp2, plaintextinp2 + '.', mode2)\n",
        "print(ciptext2)\n",
        "et = time.time()\n",
        "encrypt_time = et - st\n",
        "print('Encryption time:', encrypt_time, 'seconds')\n",
        "st = time.time()\n",
        "plaintext2 = decrypt(keyinp2, ciptext2, mode2)\n",
        "print(plaintext2)\n",
        "dt = time.time()\n",
        "decrypt_time = dt - st\n",
        "print('Decryption time:', decrypt_time, 'seconds')"
      ],
      "metadata": {
        "colab": {
          "base_uri": "https://localhost:8080/"
        },
        "id": "PO9XXUmxDcnM",
        "outputId": "6a2db659-0cab-41b7-f2a8-018443ad2be6"
      },
      "execution_count": null,
      "outputs": [
        {
          "output_type": "stream",
          "name": "stdout",
          "text": [
            "\fn -Ï¦ýÁÃ\u0001¶0C\u0013-79GN|ºC\u000fkç\u001b\u0010ñÒb$·\"\u0003Idn`åèÑ6\u001c@Ôu\u0014ç¬ñ\u0019 \u0001ãù¤F \u0018\u0005W.t6rÅ\u001f»þ­BáDZò0öãWª§u\u0000½\u0010¢.ïDÃ;îSd©#\u001eJÛ _TW:I\u001a1ÿYHÚÏÃKn&°nKp\u001d{ÙêÇ\u000f¥y\u0012Ò7wTk¿v%@±OL~\u0000kj\u0015\u0013»ÆuP\u0000\u0007ÄµýÙ­P\u0011Öö!uVûKÖ\u0014½4´7³\u0010Ä¹µ\r8ªÍU\u0013G Sùl\n",
            "Ã0üÞÜ\\\u0018n\u0014f.DvÑ?&dÇámÈ8,Ék³\u000f/Rª\t\u0012´hË\u0000Ï\t\"ó\u001f{FNbÿH\u000eQãsFÉ(yAê]è*]òÀ\n",
            "Encryption time: 0.16357111930847168 seconds\n",
            "Theories about learning with multimedia can be positioned at different levels. At a basic level, psychological theories describe memory systems and cognitive processes that explain how people process different types of information and how they learn with different senses..               \n",
            "Decryption time: 0.1736738681793213 seconds\n"
          ]
        }
      ]
    },
    {
      "cell_type": "markdown",
      "source": [
        "Plaintext 2\n",
        "\n",
        "if saying \"I won't let you run away,\" this made Amane feel a little shy,\n",
        "and then he put his hands behind Maui and hugged her back.\n",
        "I won't run...\n",
        "I want to treat her well, I want her to be happy, I want to love her. These\n",
        "thoughts flew through Amane's mind as he embraced her.\n",
        "\"I wish for Mahiru to be happy."
      ],
      "metadata": {
        "id": "LIsJrwEf5EVI"
      }
    },
    {
      "cell_type": "code",
      "source": [
        "# plaintextinp1 = str(input(\"Plaintext: \"))\n",
        "# keyinp1 = str(input(\"Key: \"))\n",
        "# mode1 = determineMode(int(input(\"Mode (1:ecb, 2:counter, 3: cbc): \")))\n",
        "plaintextinp1 = \"\"\"if saying \"I won't let you run away,\" this made Amane feel a little shy,\n",
        "and then he put his hands behind Maui and hugged her back.\n",
        "I won't run...\n",
        "I want to treat her well, I want her to be happy, I want to love her. These\n",
        "thoughts flew through Amane's mind as he embraced her.\n",
        "\"I wish for Mahiru to be happy.\"\"\"\n",
        "keyinp1 = \"daisuko da yo\"\n",
        "mode1 = determineMode(1)\n",
        "st = time.time()\n",
        "ciptext1 = encrypt(keyinp1, plaintextinp1, mode1)\n",
        "print(ciptext1)\n",
        "et = time.time()\n",
        "encrypt_time = et - st\n",
        "print('Encryption time:', encrypt_time, 'seconds')\n",
        "st = time.time()\n",
        "plaintext1 = decrypt(keyinp1, ciptext1, mode1)\n",
        "print(plaintext1)\n",
        "dt = time.time()\n",
        "decrypt_time = dt - st\n",
        "print('Decryption time:', decrypt_time, 'seconds')"
      ],
      "metadata": {
        "colab": {
          "base_uri": "https://localhost:8080/"
        },
        "id": "RB5GSGF8qfaw",
        "outputId": "a513a5c6-e7d8-4418-d4d1-c9497e4f2b8a"
      },
      "execution_count": null,
      "outputs": [
        {
          "output_type": "stream",
          "name": "stdout",
          "text": [
            "\u0013¼þÅ¦\t\u0001yÇÛ7îÊî·}Ý=\u0007Î·Ã^×\tèþ¸5#Cèqu<þ|IÙxæ÷G\u000bçÒsÚ\u001f\u0003®RPeª3v<[[»\u0007â<n$ð¾*ì wnÔÚ¾+­ÇûºlÇML\u0014-\u0015]2·ÿã9W²ÒY$\u0007¼7\u0016¨!+ñÏêêâ\t¬ùó!oTàÿ0w íZ\u001eýsÑ¹âS1H^ÔVº¥Õå×C¾\rïØÉ\u001d^u&¯Òõ\u0017\u0012,T\u0003A?¥Q g\tXI>PÂrr3Q«}ñ!Ðq\u000f\u0016é@PåÛ××\u001d,S>ðbÜY;-q3Z\u0015ÐRÐ*\tZ\u001f;%kå¬ë\u001f`\r¤ÚÀtËÕ$\u000f\u0011öµäíúTç³n¾ÛR³\"s)ün\u001d÷í<\u0015jQ[\u0005j¿r£\u001e\u0010U\u0018ùäËY\u0005_Í«\u0012D/H¡ëNÜn+¤ªx±\n",
            "Encryption time: 0.18240666389465332 seconds\n",
            "if saying \"I won't let you run away,\" this made Amane feel a little shy,\n",
            "and then he put his hands behind Maui and hugged her back.\n",
            "I won't run...\n",
            "I want to treat her well, I want her to be happy, I want to love her. These\n",
            "thoughts flew through Amane's mind as he embraced her.\n",
            "\"I wish for Mahiru to be happy.           \n",
            "Decryption time: 0.196197509765625 seconds\n"
          ]
        }
      ]
    },
    {
      "cell_type": "code",
      "source": [
        "# plaintextinp2 = str(input(\"Plaintext: \"))\n",
        "# keyinp2 = str(input(\"Key: \"))\n",
        "# mode2 = determineMode(int(input(\"Mode (1:ecb, 2:counter, 3:cbc): \")))\n",
        "plaintextinp2 =\"\"\"if saying \"I won't let you run away,\" this made Amane feel a little shy,\n",
        "and then he put his hands behind Maui and hugged her back.\n",
        "I won't run...\n",
        "I want to treat her well, I want her to be happy, I want to love her. These\n",
        "thoughts flew through Amane's mind as he embraced her.\n",
        "\"I wish for Mahiru to be happy.\"\"\"\n",
        "keyinp2 = \"daisuko da yo\"\n",
        "mode2 = determineMode(2)\n",
        "st = time.time()\n",
        "ciptext2 = encrypt(keyinp2, plaintextinp2, mode2)\n",
        "print(ciptext2)\n",
        "et = time.time()\n",
        "encrypt_time = et - st\n",
        "print('Encryption time:', encrypt_time, 'seconds')\n",
        "st = time.time()\n",
        "plaintext2 = decrypt(keyinp2, ciptext2, mode2)\n",
        "print(plaintext2)\n",
        "dt = time.time()\n",
        "decrypt_time = dt - st\n",
        "print('Decryption time:', decrypt_time, 'seconds')"
      ],
      "metadata": {
        "colab": {
          "base_uri": "https://localhost:8080/"
        },
        "id": "5ynMlHpvqfrt",
        "outputId": "fc40fc83-9ab7-4712-d28c-098a1934a774"
      },
      "execution_count": null,
      "outputs": [
        {
          "output_type": "stream",
          "name": "stdout",
          "text": [
            "\u0013¼þÅ¦\t\u0001yÇÛ7îÊü\u0007Uâó7I5Õü!fJ\u000f×©\u0012OÚ\b=6Rs·H\b0E®þ\b\u0017\u0003 î%Ö_k6\u001f\u0018üÏµMNïNö1åÏo2STÙuxaÇ5=\n",
            "ÓìÈd\u00125X÷Bå*Æ=¥~îÝ\\ÎÌ7=C¿§\u001aqmï%nòBÓÅÈeYIàdJ\tÇ'À2?Äx°¾@Õ­©÷õ­\u0005gi§ðT&u\u0011\bï&©$#%Ä¨&\u0003\u000eêQPg\u001eÊ/\u0007[Á²LC\u00118\u0019É\fY\u0012v\u000e\t8*\u000eü³êxÇ\rÃ ÂµÝ\f¢¶U\u0010}^$Õýù±jÑHvµ5\u0006\u0012\t3]ofz9`¡å~Ú\u000e\n",
            "\u001cV*ZúF|¿ù«¨õÔBN_DxõïU¦uSì\u0011jm¼µëù%*\u0002x(°%w¦%9=J\u0004<W\n",
            "Encryption time: 0.19705629348754883 seconds\n",
            "if saying \"I won't let you run away,\" this made Amane feel a little shy,\n",
            "and then he put his hands behind Maui and hugged her back.\n",
            "I won't run...\n",
            "I want to treat her well, I want her to be happy, I want to love her. These\n",
            "thoughts flew through Amane's mind as he embraced her.\n",
            "\"I wish for Mahiru to be happy.           \n",
            "Decryption time: 0.18267154693603516 seconds\n"
          ]
        }
      ]
    },
    {
      "cell_type": "code",
      "source": [
        "# plaintextinp3 = str(input(\"Plaintext: \"))\n",
        "# keyinp3 = str(input(\"Key: \"))\n",
        "# mode3 = determineMode(int(input(\"Mode (1:ecb, 2:counter, 3:cbc): \")))\n",
        "plaintextinp3 = \"\"\"if saying \"I won't let you run away,\" this made Amane feel a little shy,\n",
        "and then he put his hands behind Maui and hugged her back.\n",
        "I won't run...\n",
        "I want to treat her well, I want her to be happy, I want to love her. These\n",
        "thoughts flew through Amane's mind as he embraced her.\n",
        "\"I wish for Mahiru to be happy.\"\"\"\n",
        "keyinp3 = \"daisuko da yo\"\n",
        "mode3 = determineMode(3)\n",
        "st = time.time()\n",
        "ciptext3 = encrypt(keyinp3, plaintextinp3, mode3)\n",
        "print(ciptext3)\n",
        "et = time.time()\n",
        "encrypt_time = et - st\n",
        "print('Encryption time:', encrypt_time, 'seconds')\n",
        "st = time.time()\n",
        "plaintext3 = decrypt(keyinp3, ciptext3, mode3)\n",
        "print(plaintext3)\n",
        "dt = time.time()\n",
        "decrypt_time = dt - st\n",
        "print('Decryption time:', decrypt_time, 'seconds')\n",
        "print(plaintext1 == plaintext2 and plaintext1 == plaintext3)\n",
        "print(ciptext1 == ciptext2 or ciptext1 == ciptext3 or ciptext2 == ciptext3)"
      ],
      "metadata": {
        "colab": {
          "base_uri": "https://localhost:8080/"
        },
        "id": "4fswD6Y3qf33",
        "outputId": "e4d9cbb2-9d49-4888-bd77-2dcf9effa0c5"
      },
      "execution_count": null,
      "outputs": [
        {
          "output_type": "stream",
          "name": "stdout",
          "text": [
            "\u0013¼þÅ¦\t\u0001yÇÛ7îÊb­\u0002\u0018±\bç¡ïøiÜh8\u001d[\u00045Æïô}\u001eðPQQvÊÉ³a?,*û<\u0007zÀ9ë6Zc·\u0016\u0010®èio]\n",
            "\u001eRâU\u001bÅEà]k\u001f+Y\u0001Ò\n",
            " Óþ\u0011M`\u0013g©¬*>5Oéüê¸Ã\u0016\u001aQ\u0013²a_µ>rÝS¸xË_oò×kÑóâ_æ·ª\u0012+×úeB0\u0010R j.G\u0018â.²lÍ\u0019¢\u0004¨\u0007êu\u0019Ïóà.\u001dfA]\tâÒ\u000b®w¯|\u0006t7»¼b{­ÎÞy»T·\u00112\t<8PIæ'm¿m\u0014A\u000eí0m6\n",
            "©2÷è5Éó\u0019RÕ>\"ÛÓ/¿R\u000fäEîåY\u0005à~G½l1\u0011ÊÚ57­Ö\u0004ò¸\u0019¼_äUTÄNà\u0001Î,þ\t2Êß\u0018Píì\fªw¨:æUGç¥ûVLqâ¦\u0018\n",
            "Encryption time: 0.1867833137512207 seconds\n",
            "if saying \"I won't let you run away,\" this made Amane feel a little shy,\n",
            "and then he put his hands behind Maui and hugged her back.\n",
            "I won't run...\n",
            "I want to treat her well, I want her to be happy, I want to love her. These\n",
            "thoughts flew through Amane's mind as he embraced her.\n",
            "\"I wish for Mahiru to be happy.           \n",
            "Decryption time: 0.17600369453430176 seconds\n",
            "True\n",
            "False\n"
          ]
        }
      ]
    },
    {
      "cell_type": "code",
      "source": [
        "# plaintextinp1 = str(input(\"Plaintext: \"))\n",
        "# keyinp1 = str(input(\"Key: \"))\n",
        "# mode1 = determineMode(int(input(\"Mode (1:ecb, 2:counter, 3: cbc): \")))\n",
        "plaintextinp1 = \"\"\"if saying \"I won't let you run away,\" this made Amane feel a little shy,\n",
        "and then he put his hands behind Maui and hugged her back.\n",
        "I won't run...\n",
        "I want to treat her well, I want her to be happy, I want to love her. These\n",
        "thoughts flew through Amane's mind as he embraced her.\n",
        "\"I wish for Mahiru to be happy.\"\"\"\n",
        "keyinp1 = \"daisuko da yo\"\n",
        "mode1 = determineMode(1)\n",
        "st = time.time()\n",
        "ciptext1 = encrypt(keyinp1, plaintextinp1, mode1)\n",
        "print(ciptext1)\n",
        "et = time.time()\n",
        "encrypt_time = et - st\n",
        "print('Encryption time:', encrypt_time, 'seconds')\n",
        "st = time.time()\n",
        "plaintext1 = decrypt(\"daisuki da yo\", ciptext1, mode1)\n",
        "print(plaintext1)\n",
        "dt = time.time()\n",
        "decrypt_time = dt - st\n",
        "print('Decryption time:', decrypt_time, 'seconds')"
      ],
      "metadata": {
        "colab": {
          "base_uri": "https://localhost:8080/"
        },
        "id": "TIOZziX-9ANQ",
        "outputId": "33e0ddae-d372-429a-aa9b-f464c87c1730"
      },
      "execution_count": null,
      "outputs": [
        {
          "output_type": "stream",
          "name": "stdout",
          "text": [
            "\u001f44õ{E\u0014²?ürÍ6Km*kC\u0004û\u0000Þ!¾¶þ=Çt-FÛÎ(÷¶üNo9v¦¶ß¹,íÒQÝ,$ª§\u000f\u0005ÍèZK\u0000a%a³ÖmÚ\u001fÇ*\u0004´'Ie!>þ°Mj¯QÖ§<\"\u0019òrÝîû§³»Õ×\u0013)\u0015Q\r¥éÅé\u0007º]w\u0010¨\u0011Ï³´4\"YÑ¿¶?Þ Dz\u0004£:çeÜeÖã\r\u0015µWìÊ¨( CcÔß\u00011Ê\u0012Z»/tV;!(q»Vf\u0007lþ@~ï§¼à\u0018ôøYõÒÊ§04\u0010T\u001eù®Öq\u0007àÛ\u0010\u0011ª`ÖÇj\u0016X\u0018Ö²åÞý\u0011q/ð\u0018b\u001dùàe¸W°mã\u0004WÛÔiJdN#ÿí\u0000°Å/ÍÒPÔf\u0016ûiV\u0004Î=\n",
            "ºúúÿ¤\u0007\u0011¼\t¶¥;\rãÍ\u001fX\n",
            "Encryption time: 0.19034314155578613 seconds\n",
            "w\bzAñá!áaÈ¿JáÎÍÂôuC\u001d@\u0010\u0013>\u0005K]ÃÞ,eÑc·Vå+çfæ-3\u000bøq ]n\u000eá\u0011w;^ê=ï\u0014Ëo[À\u0006rÍÅaF\f*½^\u001bchæqýAGÎ\u0003³è¡ááÈúÊ\u000b[äË]¾[x×\u000b&öN-»ñ\u0000þ\n",
            "Óé~ýqß\\-v\u001cÒOO(µ(¸öí\\pÔv\u0002pÇ\u001cJÔ\u0019\u001eEI/Ôý`¶âÞ¨¶¸Ë'\u0005\u0001\b+Ö3h%ìÅp\rézñwòonÐï²±ÑáÂ8oÏeÏh£V¸«YêI»þø°¨2|\u001d\u001e#[7jiyrú­xA\u001dóÕ\u0016\u0002¡¿¢\u000e'z_\u0006îØð\u0016n&4Ï+Ù\u0011ÄìvHç§t\b\u0007¹á÷øÇåT\u0013Èa\u0018×cî?¤ÏD0x\u0014Ð_\u0017\u001f)ÑÛ1]ÃCZ\n",
            "Decryption time: 0.18317651748657227 seconds\n"
          ]
        }
      ]
    }
  ]
}